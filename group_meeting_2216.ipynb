{
 "metadata": {
  "celltoolbar": "Slideshow",
  "name": "",
  "signature": "sha256:579887c657f71704622250fa0b45718d542bc4cf48b7d71418aba1ca6b54338d"
 },
 "nbformat": 3,
 "nbformat_minor": 0,
 "worksheets": [
  {
   "cells": [
    {
     "cell_type": "markdown",
     "metadata": {
      "slideshow": {
       "slide_type": "slide"
      }
     },
     "source": [
      "#Genetic Algorithm Updates\n",
      "\n",
      "<img src=\"the_island_of_dr_moron.jpg\" style=\"width: 500px;\" />\n",
      "\n",
      "##Josh Campbell\n",
      "###02/02/16"
     ]
    },
    {
     "cell_type": "markdown",
     "metadata": {
      "slideshow": {
       "slide_type": "slide"
      }
     },
     "source": [
      "##Outline\n",
      "\n",
      "**Why azapentacenes?**\n",
      "\n",
      "**State of the GA**\n",
      "\n",
      "**New crossover and testing**"
     ]
    },
    {
     "cell_type": "markdown",
     "metadata": {
      "slideshow": {
       "slide_type": "slide"
      }
     },
     "source": [
      "##Organic Semiconductors\n",
      "\n",
      "2 main factors to optimise: **reorganisation energy** and **transfer integral**.\n",
      "\n",
      "<img src=\"pentacene.png\" style=\"width: 300px;\" />\n",
      "\n",
      "<img src=\"PENCEN.png\" style=\"width: 500px;\" />"
     ]
    },
    {
     "cell_type": "markdown",
     "metadata": {
      "slideshow": {
       "slide_type": "subslide"
      }
     },
     "source": [
      "##Substitution\n",
      "\n",
      "<img src=\"5A.png\" style=\"width: 300px;\" />\n",
      "<img src=\"5B.png\" style=\"width: 300px;\" />\n",
      "<img src=\"5D.png\" style=\"width: 300px;\" />\n",
      "<img src=\"7A.png\" style=\"width: 300px;\" />\n",
      "<img src=\"7B.png\" style=\"width: 300px;\" />\n",
      "<img src=\"7D.png\" style=\"width: 300px;\" />\n"
     ]
    },
    {
     "cell_type": "markdown",
     "metadata": {
      "slideshow": {
       "slide_type": "subslide"
      }
     },
     "source": [
      "<img src=\"5D_herring.png\" style=\"width: 500px;\" />\n",
      "<img src=\"7A_sheets.png\" style=\"width: 500px;\" />"
     ]
    },
    {
     "cell_type": "markdown",
     "metadata": {
      "slideshow": {
       "slide_type": "slide"
      }
     },
     "source": [
      "##GA so far\n",
      "\n",
      "Initial population testing involved calculations on reorganisation energy across 4 different population sizes (50,100,150,200) beginning with 5 N, using tournament selection with an elitism rate of 10% and a crossover rate of 90%. Fitness was represented by reorganisation energy. "
     ]
    },
    {
     "cell_type": "markdown",
     "metadata": {
      "slideshow": {
       "slide_type": "subslide"
      }
     },
     "source": [
      "##Crossover\n",
      "\n",
      "<img src=\"old_crossover_highlight.png\" style=\"width: 500px;\" />"
     ]
    },
    {
     "cell_type": "markdown",
     "metadata": {
      "slideshow": {
       "slide_type": "subslide"
      }
     },
     "source": [
      "###Single point\n",
      "\n",
      "<img src=\"single_pt.png\" style=\"width: 300px;\" />"
     ]
    },
    {
     "cell_type": "markdown",
     "metadata": {
      "slideshow": {
       "slide_type": "subslide"
      }
     },
     "source": [
      "####Two point\n",
      "\n",
      "<img src=\"two_point.png\" style=\"width: 300px;\" />"
     ]
    },
    {
     "cell_type": "markdown",
     "metadata": {
      "slideshow": {
       "slide_type": "subslide"
      }
     },
     "source": [
      "###Uniform \n",
      "\n",
      "<img src=\"uni_cross.png\" style=\"width: 600px;\" />"
     ]
    },
    {
     "cell_type": "markdown",
     "metadata": {
      "slideshow": {
       "slide_type": "subslide"
      }
     },
     "source": [
      "##Selection\n",
      "\n",
      "<img src=\"joust.jpg\" style=\"width: 600px;\" />"
     ]
    },
    {
     "cell_type": "markdown",
     "metadata": {
      "slideshow": {
       "slide_type": "fragment"
      }
     },
     "source": [
      "Tournament selection involves running several \"tournaments\" among a few individuals chosen at random from the population. The winner of each tournament (the one with the best fitness) is selected for crossover. Selection pressure is easily adjusted by changing the tournament size. If the tournament size is larger, weak individuals have a smaller chance to be selected."
     ]
    },
    {
     "cell_type": "markdown",
     "metadata": {
      "slideshow": {
       "slide_type": "fragment"
      }
     },
     "source": [
      "    choose k (the tournament size) individuals from the population at random\n",
      "    choose the best individual from pool/tournament with probability p\n",
      "    choose the second best individual with probability p*(1-p)\n",
      "    choose the third best individual with probability p*((1-p)^2)\n",
      "    and so on..."
     ]
    },
    {
     "cell_type": "markdown",
     "metadata": {
      "slideshow": {
       "slide_type": "subslide"
      }
     },
     "source": [
      "##Results so far\n",
      "\n",
      "<img src=\"gtp_plt.png\" style=\"width: 1000px;\" />\n",
      "\n",
      "| Pop size | Average generations till pent |\n",
      "|----------|-----------------------|\n",
      "| 200      | 5                     |\n",
      "| 150      | 4                     |\n",
      "| 100      | 5                     |\n",
      "| 50       | 7                     |"
     ]
    },
    {
     "cell_type": "markdown",
     "metadata": {
      "slideshow": {
       "slide_type": "subslide"
      }
     },
     "source": [
      "##Unique molecules till pentacene\n",
      "\n",
      "<img src=\"mtp_plt.png\" style=\"width: 1000px;\" />\n",
      "\n",
      "| Pop size | Average unique mols till pent | Calculations till pent |\n",
      "|----------|-------------------------------|------------------------|\n",
      "| 200      | 503                           | 2014                   |\n",
      "| 150      | 382                           | 1528                   |\n",
      "| 100      | 299                           | 1198                   |\n",
      "| 50       | 181                           | 724                    |"
     ]
    },
    {
     "cell_type": "markdown",
     "metadata": {
      "slideshow": {
       "slide_type": "slide"
      }
     },
     "source": [
      "##New crossover\n",
      "\n",
      "It was decided to move to a more general, chemically sensible crossover before additional work was done on implementing CSP.\n",
      "\n",
      "<img src=\"new_cross.png\" style=\"width: 500px;\" />\n"
     ]
    },
    {
     "cell_type": "markdown",
     "metadata": {
      "slideshow": {
       "slide_type": "subslide"
      }
     },
     "source": [
      "    pick 2 parents from ranked list (p1,p2)\n",
      "    pick type of crossover [single(30%), two(60%), uniform(10%)]\n",
      "    decide if branching (5%)\n",
      "    if single:\n",
      "        pick n\n",
      "        fragment molecules on nth ring\n",
      "        join p1(n) with p2(-n)\n",
      "        join p2(n) with p1(-n)\n",
      "    if two:\n",
      "        pick n1, n2\n",
      "        take n1 of p1\n",
      "        take n2 of p2\n",
      "        join p1(n1) with p2(-n2)\n",
      "        joint p2(n2) with p1(-n1)\n",
      "        make up rest of child1 with rest of p1 (or trim)\n",
      "        make up rest of child2 with rest of p2 (or trim)\n",
      "    if uniform:\n",
      "        fragment p1\n",
      "        fragment p2\n",
      "        for each ring choose one from p1frags or p2frags\n",
      "        other child is inverse of first one"
     ]
    },
    {
     "cell_type": "markdown",
     "metadata": {
      "slideshow": {
       "slide_type": "subslide"
      }
     },
     "source": [
      "##Branching\n",
      "\n",
      "Cut points have a 5% chance to move round the ring, this occurs only in single and two point crossover, branching can occur on already branched molecules.\n",
      "\n",
      "<img src=\"nbranch_example.png\" style=\"width: 400px;\" />\n",
      "\n",
      "<img src=\"branch_example.png\" style=\"width: 400px;\" />"
     ]
    },
    {
     "cell_type": "markdown",
     "metadata": {
      "slideshow": {
       "slide_type": "subslide"
      }
     },
     "source": [
      "##Testing the new crossover\n",
      "\n",
      "Reorganisation energy was used again to compare back to old results. But more molecular properties would help confidence in testing.\n",
      "\n",
      "In addition to reorganisation energy the LUMO energy, HOMO/LUMO difference and max dipole moment were investigated."
     ]
    },
    {
     "cell_type": "markdown",
     "metadata": {
      "slideshow": {
       "slide_type": "subslide"
      }
     },
     "source": [
      "##Max Dipole \n",
      "\n",
      "Ran for 15 generations ignoring all stopping criteria\n",
      "\n",
      "<img src=\"maxd_test.png\" style=\"width: 800px;\" />\n",
      "\n"
     ]
    },
    {
     "cell_type": "markdown",
     "metadata": {
      "slideshow": {
       "slide_type": "subslide"
      }
     },
     "source": [
      "##HOMO/LUMO difference\n",
      "\n",
      "<img src=\"hldiff_15_gens.png\" style=\"width: 800px;\" />"
     ]
    },
    {
     "cell_type": "markdown",
     "metadata": {
      "slideshow": {
       "slide_type": "subslide"
      }
     },
     "source": [
      "##LUMO energy\n",
      "\n",
      "<img src=\"lumoen_15_gens.png\" style=\"width: 800px;\" />"
     ]
    },
    {
     "cell_type": "markdown",
     "metadata": {
      "slideshow": {
       "slide_type": "subslide"
      }
     },
     "source": [
      "##Results\n",
      "\n",
      "**LUMO energy**\n",
      "Runs at 50,100 and 200 are done, 150 still running.\n",
      "\n",
      "|  | 1 |2 |3 |4 |5 |6 |7 |8 |9 |10 | \n",
      "|----------|----------------------- | \n",
      "| 100      |                    \n",
      "| First min| 16 | 10 | 15 | 15 | 20 | 8 | 13 | 13 |15 |13 | \n",
      "| Unique mols| 590 |526 |575 |682 |537 |475 |600 |492 |511 |657 | \n",
      "| 50       | \n",
      "| First min|/ |/ |10 |15 |/ |13 |15 |17 |14 |17 | \n",
      "| Unique mols |294 |367 |328 |278 |278 |320 |327 |343 |299 |332 | \n",
      "| 200      | \n",
      "| First min |13 |15 |14 |13 |10 |13 |/ |15 |9 |12 |  \n",
      "| Unique mols |975|1003|995|1017|854|860|724|904|836|1015| \n",
      "|150       | \n",
      "| First min|13|15|18|15|13| \n",
      "| Unique mols|738|699|839|817|759| \n",
      "\n",
      "**Reorganisation energy**\n",
      "Ran by hand so these are lagging a bit behind, will finish off using server/celery implementation\n",
      "\n",
      "|  | 1 |2 |3 |4 |5 |6 |7 |8 |9 |10| \n",
      "|----------|-----------------------| \n",
      "| 100      |                    \n",
      "| First min| 8 | 6 | 10 | 8 | 11 | 10 | \n",
      "| Unique mols|401|355|438|402|347|420| \n",
      "| 50       | \n",
      "| First min|8|6| \n",
      "| Unique mols|220|178| \n",
      "| 150       |\n",
      "| First min |4|9| \n",
      "| Unique mols|430|518| \n",
      "| 200       | \n",
      "| First min |7|6| \n",
      "| Unique mols|686|646| \n",
      "\n",
      "\n"
     ]
    },
    {
     "cell_type": "markdown",
     "metadata": {
      "slideshow": {
       "slide_type": "subslide"
      }
     },
     "source": [
      "##Future work\n",
      "\n",
      "Finishing population testing. \n",
      "\n",
      "Implement CSP into GA.\n",
      "\n"
     ]
    },
    {
     "cell_type": "markdown",
     "metadata": {
      "slideshow": {
       "slide_type": "slide"
      }
     },
     "source": [
      "##Acknowledgements\n",
      "\n",
      "Thanks to everyone in the Day group.\n"
     ]
    },
    {
     "cell_type": "code",
     "collapsed": false,
     "input": [],
     "language": "python",
     "metadata": {},
     "outputs": []
    }
   ],
   "metadata": {}
  }
 ]
}